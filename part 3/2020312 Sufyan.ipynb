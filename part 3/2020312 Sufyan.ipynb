{
 "cells": [
  {
   "cell_type": "markdown",
   "id": "3381e2c6",
   "metadata": {},
   "source": [
    "# Importing modules"
   ]
  },
  {
   "cell_type": "code",
   "execution_count": 1,
   "id": "6475b6b4",
   "metadata": {},
   "outputs": [],
   "source": [
    "from sklearn.model_selection import train_test_split\n",
    "from sklearn.preprocessing import LabelEncoder\n",
    "from sklearn.metrics import accuracy_score, multilabel_confusion_matrix\n",
    "from sklearn.neural_network import MLPClassifier\n",
    "import seaborn as sns\n",
    "import pandas as pd\n",
    "import matplotlib.pyplot as plt\n",
    "import numpy as np"
   ]
  },
  {
   "cell_type": "markdown",
   "id": "e00b6de6",
   "metadata": {},
   "source": [
    "# Reading data from CSV"
   ]
  },
  {
   "cell_type": "code",
   "execution_count": 2,
   "id": "b52960db",
   "metadata": {
    "scrolled": false
   },
   "outputs": [
    {
     "data": {
      "text/html": [
       "<div>\n",
       "<style scoped>\n",
       "    .dataframe tbody tr th:only-of-type {\n",
       "        vertical-align: middle;\n",
       "    }\n",
       "\n",
       "    .dataframe tbody tr th {\n",
       "        vertical-align: top;\n",
       "    }\n",
       "\n",
       "    .dataframe thead th {\n",
       "        text-align: right;\n",
       "    }\n",
       "</style>\n",
       "<table border=\"1\" class=\"dataframe\">\n",
       "  <thead>\n",
       "    <tr style=\"text-align: right;\">\n",
       "      <th></th>\n",
       "      <th>Acedamic percentage in Operating Systems</th>\n",
       "      <th>percentage in Algorithms</th>\n",
       "      <th>Percentage in Programming Concepts</th>\n",
       "      <th>Percentage in Software Engineering</th>\n",
       "      <th>Percentage in Computer Networks</th>\n",
       "      <th>Percentage in Electronics Subjects</th>\n",
       "      <th>Percentage in Computer Architecture</th>\n",
       "      <th>Percentage in Mathematics</th>\n",
       "      <th>Percentage in Communication skills</th>\n",
       "      <th>Hours working per day</th>\n",
       "      <th>...</th>\n",
       "      <th>Interested Type of Books</th>\n",
       "      <th>Salary Range Expected</th>\n",
       "      <th>In a Realtionship?</th>\n",
       "      <th>Gentle or Tuff behaviour?</th>\n",
       "      <th>Management or Technical</th>\n",
       "      <th>Salary/work</th>\n",
       "      <th>hard/smart worker</th>\n",
       "      <th>worked in teams ever?</th>\n",
       "      <th>Introvert</th>\n",
       "      <th>Suggested Job Role</th>\n",
       "    </tr>\n",
       "  </thead>\n",
       "  <tbody>\n",
       "    <tr>\n",
       "      <th>0</th>\n",
       "      <td>69</td>\n",
       "      <td>63</td>\n",
       "      <td>78</td>\n",
       "      <td>87</td>\n",
       "      <td>94</td>\n",
       "      <td>94</td>\n",
       "      <td>87</td>\n",
       "      <td>84</td>\n",
       "      <td>61</td>\n",
       "      <td>9</td>\n",
       "      <td>...</td>\n",
       "      <td>Prayer books</td>\n",
       "      <td>salary</td>\n",
       "      <td>no</td>\n",
       "      <td>stubborn</td>\n",
       "      <td>Management</td>\n",
       "      <td>salary</td>\n",
       "      <td>hard worker</td>\n",
       "      <td>yes</td>\n",
       "      <td>no</td>\n",
       "      <td>Database Developer</td>\n",
       "    </tr>\n",
       "    <tr>\n",
       "      <th>1</th>\n",
       "      <td>78</td>\n",
       "      <td>62</td>\n",
       "      <td>73</td>\n",
       "      <td>60</td>\n",
       "      <td>71</td>\n",
       "      <td>70</td>\n",
       "      <td>73</td>\n",
       "      <td>84</td>\n",
       "      <td>91</td>\n",
       "      <td>12</td>\n",
       "      <td>...</td>\n",
       "      <td>Childrens</td>\n",
       "      <td>salary</td>\n",
       "      <td>yes</td>\n",
       "      <td>gentle</td>\n",
       "      <td>Technical</td>\n",
       "      <td>salary</td>\n",
       "      <td>hard worker</td>\n",
       "      <td>no</td>\n",
       "      <td>yes</td>\n",
       "      <td>Portal Administrator</td>\n",
       "    </tr>\n",
       "    <tr>\n",
       "      <th>2</th>\n",
       "      <td>71</td>\n",
       "      <td>86</td>\n",
       "      <td>91</td>\n",
       "      <td>87</td>\n",
       "      <td>61</td>\n",
       "      <td>81</td>\n",
       "      <td>72</td>\n",
       "      <td>72</td>\n",
       "      <td>94</td>\n",
       "      <td>11</td>\n",
       "      <td>...</td>\n",
       "      <td>Travel</td>\n",
       "      <td>Work</td>\n",
       "      <td>no</td>\n",
       "      <td>stubborn</td>\n",
       "      <td>Management</td>\n",
       "      <td>work</td>\n",
       "      <td>hard worker</td>\n",
       "      <td>no</td>\n",
       "      <td>yes</td>\n",
       "      <td>Portal Administrator</td>\n",
       "    </tr>\n",
       "    <tr>\n",
       "      <th>3</th>\n",
       "      <td>76</td>\n",
       "      <td>87</td>\n",
       "      <td>60</td>\n",
       "      <td>84</td>\n",
       "      <td>89</td>\n",
       "      <td>73</td>\n",
       "      <td>62</td>\n",
       "      <td>88</td>\n",
       "      <td>69</td>\n",
       "      <td>7</td>\n",
       "      <td>...</td>\n",
       "      <td>Romance</td>\n",
       "      <td>Work</td>\n",
       "      <td>yes</td>\n",
       "      <td>gentle</td>\n",
       "      <td>Management</td>\n",
       "      <td>work</td>\n",
       "      <td>smart worker</td>\n",
       "      <td>yes</td>\n",
       "      <td>yes</td>\n",
       "      <td>Systems Security Administrator</td>\n",
       "    </tr>\n",
       "    <tr>\n",
       "      <th>4</th>\n",
       "      <td>92</td>\n",
       "      <td>62</td>\n",
       "      <td>90</td>\n",
       "      <td>67</td>\n",
       "      <td>71</td>\n",
       "      <td>89</td>\n",
       "      <td>73</td>\n",
       "      <td>71</td>\n",
       "      <td>73</td>\n",
       "      <td>4</td>\n",
       "      <td>...</td>\n",
       "      <td>Cookbooks</td>\n",
       "      <td>salary</td>\n",
       "      <td>no</td>\n",
       "      <td>stubborn</td>\n",
       "      <td>Management</td>\n",
       "      <td>work</td>\n",
       "      <td>hard worker</td>\n",
       "      <td>yes</td>\n",
       "      <td>yes</td>\n",
       "      <td>Business Systems Analyst</td>\n",
       "    </tr>\n",
       "  </tbody>\n",
       "</table>\n",
       "<p>5 rows × 39 columns</p>\n",
       "</div>"
      ],
      "text/plain": [
       "   Acedamic percentage in Operating Systems  percentage in Algorithms  \\\n",
       "0                                        69                        63   \n",
       "1                                        78                        62   \n",
       "2                                        71                        86   \n",
       "3                                        76                        87   \n",
       "4                                        92                        62   \n",
       "\n",
       "   Percentage in Programming Concepts  Percentage in Software Engineering  \\\n",
       "0                                  78                                  87   \n",
       "1                                  73                                  60   \n",
       "2                                  91                                  87   \n",
       "3                                  60                                  84   \n",
       "4                                  90                                  67   \n",
       "\n",
       "   Percentage in Computer Networks  Percentage in Electronics Subjects  \\\n",
       "0                               94                                  94   \n",
       "1                               71                                  70   \n",
       "2                               61                                  81   \n",
       "3                               89                                  73   \n",
       "4                               71                                  89   \n",
       "\n",
       "   Percentage in Computer Architecture  Percentage in Mathematics  \\\n",
       "0                                   87                         84   \n",
       "1                                   73                         84   \n",
       "2                                   72                         72   \n",
       "3                                   62                         88   \n",
       "4                                   73                         71   \n",
       "\n",
       "   Percentage in Communication skills  Hours working per day  ...  \\\n",
       "0                                  61                      9  ...   \n",
       "1                                  91                     12  ...   \n",
       "2                                  94                     11  ...   \n",
       "3                                  69                      7  ...   \n",
       "4                                  73                      4  ...   \n",
       "\n",
       "   Interested Type of Books  Salary Range Expected  In a Realtionship?  \\\n",
       "0              Prayer books                 salary                  no   \n",
       "1                 Childrens                 salary                 yes   \n",
       "2                    Travel                   Work                  no   \n",
       "3                   Romance                   Work                 yes   \n",
       "4                 Cookbooks                 salary                  no   \n",
       "\n",
       "   Gentle or Tuff behaviour? Management or Technical Salary/work  \\\n",
       "0                   stubborn              Management      salary   \n",
       "1                     gentle               Technical      salary   \n",
       "2                   stubborn              Management        work   \n",
       "3                     gentle              Management        work   \n",
       "4                   stubborn              Management        work   \n",
       "\n",
       "  hard/smart worker worked in teams ever? Introvert  \\\n",
       "0       hard worker                   yes        no   \n",
       "1       hard worker                    no       yes   \n",
       "2       hard worker                    no       yes   \n",
       "3      smart worker                   yes       yes   \n",
       "4       hard worker                   yes       yes   \n",
       "\n",
       "               Suggested Job Role  \n",
       "0              Database Developer  \n",
       "1            Portal Administrator  \n",
       "2            Portal Administrator  \n",
       "3  Systems Security Administrator  \n",
       "4        Business Systems Analyst  \n",
       "\n",
       "[5 rows x 39 columns]"
      ]
     },
     "execution_count": 2,
     "metadata": {},
     "output_type": "execute_result"
    }
   ],
   "source": [
    "data = pd.read_csv('roo_data.csv')\n",
    "data.head()"
   ]
  },
  {
   "cell_type": "code",
   "execution_count": 3,
   "id": "4b3b39c6",
   "metadata": {},
   "outputs": [
    {
     "name": "stdout",
     "output_type": "stream",
     "text": [
      "1. Acedamic percentage in Operating Systems\n",
      "2. percentage in Algorithms\n",
      "3. Percentage in Programming Concepts\n",
      "4. Percentage in Software Engineering\n",
      "5. Percentage in Computer Networks\n",
      "6. Percentage in Electronics Subjects\n",
      "7. Percentage in Computer Architecture\n",
      "8. Percentage in Mathematics\n",
      "9. Percentage in Communication skills\n",
      "10. Hours working per day\n",
      "11. Logical quotient rating\n",
      "12. hackathons\n",
      "13. coding skills rating\n",
      "14. public speaking points\n",
      "15. can work long time before system?\n",
      "16. self-learning capability?\n",
      "17. Extra-courses did\n",
      "18. certifications\n",
      "19. workshops\n",
      "20. talenttests taken?\n",
      "21. olympiads\n",
      "22. reading and writing skills\n",
      "23. memory capability score\n",
      "24. Interested subjects\n",
      "25. interested career area \n",
      "26. Job/Higher Studies?\n",
      "27. Type of company want to settle in?\n",
      "28. Taken inputs from seniors or elders\n",
      "29. interested in games\n",
      "30. Interested Type of Books\n",
      "31. Salary Range Expected\n",
      "32. In a Realtionship?\n",
      "33. Gentle or Tuff behaviour?\n",
      "34. Management or Technical\n",
      "35. Salary/work\n",
      "36. hard/smart worker\n",
      "37. worked in teams ever?\n",
      "38. Introvert\n",
      "39. Suggested Job Role\n"
     ]
    }
   ],
   "source": [
    "# All coloumn names\n",
    "i = 0\n",
    "for col in data.columns:\n",
    "    i += 1\n",
    "    print(f\"{i}.\", col)"
   ]
  },
  {
   "cell_type": "code",
   "execution_count": 4,
   "id": "940aabef",
   "metadata": {},
   "outputs": [
    {
     "name": "stdout",
     "output_type": "stream",
     "text": [
      "1. CRM Business Analyst\n",
      "2. Systems Analyst\n",
      "3. Programmer Analyst\n",
      "4. Systems Security Administrator\n",
      "5. Project Manager\n",
      "6. Database Manager\n",
      "7. Software Quality Assurance (QA) / Testing\n",
      "8. Technical Support\n",
      "9. Database Administrator\n",
      "10. E-Commerce Analyst\n",
      "11. Software Developer\n",
      "12. Web Developer\n",
      "13. Network Security Administrator\n",
      "14. Information Technology Auditor\n",
      "15. Business Systems Analyst\n",
      "16. Database Developer\n",
      "17. Mobile Applications Developer\n",
      "18. Information Technology Manager\n",
      "19. Design & UX\n",
      "20. Technical Engineer\n",
      "21. Applications Developer\n",
      "22. Business Intelligence Analyst\n",
      "23. Software Systems Engineer\n",
      "24. UX Designer\n",
      "25. Information Security Analyst\n",
      "26. Portal Administrator\n",
      "27. CRM Technical Developer\n",
      "28. Solutions Architect\n",
      "29. Data Architect\n",
      "30. Quality Assurance Associate\n",
      "31. Software Engineer\n",
      "32. Technical Services/Help Desk/Tech Support\n",
      "33. Network Engineer\n",
      "34. Network Security Engineer\n"
     ]
    }
   ],
   "source": [
    "# All rows present for Suggested Job Role\n",
    "Xa = set(data['Suggested Job Role'])\n",
    "cnt = 0\n",
    "for i in Xa:\n",
    "    cnt += 1\n",
    "    print(f\"{cnt}.\", i)"
   ]
  },
  {
   "cell_type": "markdown",
   "id": "2db21696",
   "metadata": {},
   "source": [
    "# Pre-Processing Data"
   ]
  },
  {
   "cell_type": "code",
   "execution_count": 5,
   "id": "fd1a85dd",
   "metadata": {},
   "outputs": [],
   "source": [
    "def club(group_roles, group_name):\n",
    "    for role_name in group_roles:\n",
    "        data.loc[data['Suggested Job Role'] == role_name, 'Suggested Job Role' ] = group_name"
   ]
  },
  {
   "cell_type": "code",
   "execution_count": 6,
   "id": "4a85b9f9",
   "metadata": {},
   "outputs": [],
   "source": [
    "def club_admin_roles():\n",
    "    group_roles = ['Network Security Administrator', 'Portal Administrator', 'Database Administrator', 'Systems Security Administrator']\n",
    "    group_name = 'Administrator'\n",
    "    club(group_roles, group_name)"
   ]
  },
  {
   "cell_type": "code",
   "execution_count": 7,
   "id": "c214d753",
   "metadata": {},
   "outputs": [],
   "source": [
    "def club_analyst_roles():\n",
    "    group_roles = ['Business Intelligence Analyst', 'Business Systems Analyst', 'CRM Business Analyst', 'Information Security Analyst', 'Programmer Analyst', 'Systems Analyst', 'E-Commerce Analyst']\n",
    "    group_name = 'Analyst'\n",
    "    club(group_roles, group_name)"
   ]
  },
  {
   "cell_type": "code",
   "execution_count": 8,
   "id": "61b76223",
   "metadata": {},
   "outputs": [],
   "source": [
    "def club_architect_roles():\n",
    "    group_roles = ['Data Architect', 'Solutions Architect']\n",
    "    group_name = 'Data Science'\n",
    "    club(group_roles, group_name)"
   ]
  },
  {
   "cell_type": "code",
   "execution_count": 9,
   "id": "5e102edc",
   "metadata": {},
   "outputs": [],
   "source": [
    "def club_assosciate_roles():\n",
    "    group_roles = ['UX Designer', 'Design & UX', 'Software Quality Assurance (QA) / Testing', 'Quality Assurance Associate', 'Information Technology Auditor']\n",
    "    group_name = 'Assosciate Roles'\n",
    "    club(group_roles, group_name)"
   ]
  },
  {
   "cell_type": "code",
   "execution_count": 10,
   "id": "f82e5bcf",
   "metadata": {},
   "outputs": [],
   "source": [
    "def club_developer_roles():\n",
    "    group_roles = ['Applications Developer', 'CRM Technical Developer', 'Database Developer', 'Mobile Applications Developer', 'Software Developer', 'Web Developer']\n",
    "    group_name = 'Developer'\n",
    "    club(group_roles, group_name)"
   ]
  },
  {
   "cell_type": "code",
   "execution_count": 11,
   "id": "c767e9ac",
   "metadata": {},
   "outputs": [],
   "source": [
    "def club_engineer_roles():\n",
    "    group_roles = ['Network Engineer', 'Network Security Engineer', 'Technical Engineer']\n",
    "    group_name = 'Engineer'\n",
    "    club(group_roles, group_name)\n",
    "    group_roles = ['Software Engineer', 'Software Systems Engineer']\n",
    "    group_name = 'Software Engineer'\n",
    "    club(group_roles, group_name)"
   ]
  },
  {
   "cell_type": "code",
   "execution_count": 12,
   "id": "425aa2b6",
   "metadata": {},
   "outputs": [],
   "source": [
    "def club_manager_roles():\n",
    "    group_roles = ['Database Manager', 'Information Technology Manager', 'Project Manager']\n",
    "    group_name = 'IT Manager'\n",
    "    club(group_roles, group_name)"
   ]
  },
  {
   "cell_type": "code",
   "execution_count": 13,
   "id": "43ab5629",
   "metadata": {},
   "outputs": [],
   "source": [
    "def club_technical_support_roles():\n",
    "    group_roles = ['Technical Services/Help Desk/Tech Support', 'Technical Support']\n",
    "    group_name = 'Technical Support'\n",
    "    club(group_roles, group_name)"
   ]
  },
  {
   "cell_type": "code",
   "execution_count": 14,
   "id": "b266f3eb",
   "metadata": {},
   "outputs": [],
   "source": [
    "def create_groups():\n",
    "    club_admin_roles()\n",
    "    club_analyst_roles()\n",
    "    club_architect_roles()\n",
    "    club_assosciate_roles()\n",
    "    club_developer_roles()\n",
    "    club_engineer_roles()\n",
    "    club_manager_roles()\n",
    "    club_technical_support_roles()\n",
    "\n",
    "create_groups()\n",
    "# Data Science, AI Engineer, Software Engineer - Assignment 1"
   ]
  },
  {
   "cell_type": "markdown",
   "id": "c4ffb86c",
   "metadata": {},
   "source": [
    "# Label Encoding"
   ]
  },
  {
   "cell_type": "code",
   "execution_count": 15,
   "id": "0eb4b19f",
   "metadata": {},
   "outputs": [],
   "source": [
    "def encoding_label_strings():\n",
    "    encoder_label = LabelEncoder()\n",
    "    string_columns = ['can work long time before system?', 'self-learning capability?', 'Extra-courses did', 'certifications', 'workshops', 'talenttests taken?', 'olympiads', 'reading and writing skills', 'memory capability score', 'Interested subjects', 'Job/Higher Studies?', 'Type of company want to settle in?', 'Taken inputs from seniors or elders', 'interested in games', 'Interested Type of Books', 'Salary Range Expected', 'In a Realtionship?', 'Gentle or Tuff behaviour?', 'Management or Technical', 'Salary/work', 'hard/smart worker', 'worked in teams ever?', 'Introvert', 'Suggested Job Role', 'interested career area ']\n",
    "    for col_name in string_columns:\n",
    "        data[col_name] = encoder_label.fit_transform(data[col_name])\n",
    "\n",
    "encoding_label_strings()"
   ]
  },
  {
   "cell_type": "code",
   "execution_count": 16,
   "id": "fc339fac",
   "metadata": {},
   "outputs": [],
   "source": [
    "X = data.drop(['Suggested Job Role'], axis='columns')\n",
    "Y = data['Suggested Job Role']"
   ]
  },
  {
   "cell_type": "markdown",
   "id": "7ebaf1bc",
   "metadata": {},
   "source": [
    "## 90:10"
   ]
  },
  {
   "cell_type": "code",
   "execution_count": 17,
   "id": "9031bfdd",
   "metadata": {},
   "outputs": [],
   "source": [
    "X_train, X_test, Y_train, Y_test = train_test_split(X, Y, random_state=3654, test_size=0.1)"
   ]
  },
  {
   "cell_type": "code",
   "execution_count": 18,
   "id": "1645e1f7",
   "metadata": {},
   "outputs": [],
   "source": [
    "model = MLPClassifier(hidden_layer_sizes=(128, 64), activation=\"relu\", max_iter=1000)\n",
    "model.fit(X_train, Y_train)\n",
    "Y_prediction = model.predict(X_test)"
   ]
  },
  {
   "cell_type": "code",
   "execution_count": 19,
   "id": "ed51708d",
   "metadata": {},
   "outputs": [
    {
     "name": "stdout",
     "output_type": "stream",
     "text": [
      "0.1675\n"
     ]
    }
   ],
   "source": [
    "classwise_accuracy1 = model.score(X_test, Y_test)\n",
    "print(classwise_accuracy1)"
   ]
  },
  {
   "cell_type": "code",
   "execution_count": 20,
   "id": "c6fd7616",
   "metadata": {},
   "outputs": [
    {
     "name": "stdout",
     "output_type": "stream",
     "text": [
      "0.1675\n"
     ]
    }
   ],
   "source": [
    "accuracy_90_10 = accuracy_score(Y_test, Y_prediction)\n",
    "print(accuracy_90_10)"
   ]
  },
  {
   "cell_type": "markdown",
   "id": "f984d623",
   "metadata": {},
   "source": [
    "### Confusion Matrix for 90:10"
   ]
  },
  {
   "cell_type": "code",
   "execution_count": 21,
   "id": "08db14d0",
   "metadata": {},
   "outputs": [
    {
     "name": "stdout",
     "output_type": "stream",
     "text": [
      "[[[1426  293]\n",
      "  [ 233   48]]\n",
      "\n",
      " [[1071  529]\n",
      "  [ 250  150]]\n",
      "\n",
      " [[1460  268]\n",
      "  [ 225   47]]\n",
      "\n",
      " [[1860   23]\n",
      "  [ 116    1]]\n",
      "\n",
      " [[1370  298]\n",
      "  [ 266   66]]\n",
      "\n",
      " [[1729   82]\n",
      "  [ 173   16]]\n",
      "\n",
      " [[1721  104]\n",
      "  [ 169    6]]\n",
      "\n",
      " [[1847   36]\n",
      "  [ 117    0]]\n",
      "\n",
      " [[1851   32]\n",
      "  [ 116    1]]]\n"
     ]
    }
   ],
   "source": [
    "confusion_matrix_90_10 = multilabel_confusion_matrix(Y_test, Y_prediction, labels=np.unique(Y))\n",
    "print(confusion_matrix_90_10)"
   ]
  },
  {
   "cell_type": "markdown",
   "id": "c7ad1210",
   "metadata": {},
   "source": [
    "## 80:20"
   ]
  },
  {
   "cell_type": "code",
   "execution_count": 22,
   "id": "cbe91947",
   "metadata": {},
   "outputs": [],
   "source": [
    "X_train, X_test, Y_train, Y_test = train_test_split(X, Y, random_state=3654, test_size=0.2)"
   ]
  },
  {
   "cell_type": "code",
   "execution_count": 23,
   "id": "660c420e",
   "metadata": {},
   "outputs": [],
   "source": [
    "model = MLPClassifier(hidden_layer_sizes=(128, 64), activation=\"relu\", max_iter=1000)\n",
    "model.fit(X_train, Y_train)\n",
    "Y_prediction = model.predict(X_test)"
   ]
  },
  {
   "cell_type": "code",
   "execution_count": 24,
   "id": "5a15a71c",
   "metadata": {},
   "outputs": [
    {
     "name": "stdout",
     "output_type": "stream",
     "text": [
      "0.2\n"
     ]
    }
   ],
   "source": [
    "classwise_accuracy2 = model.score(X_test, Y_test)\n",
    "print(classwise_accuracy2)"
   ]
  },
  {
   "cell_type": "code",
   "execution_count": 25,
   "id": "d62d9263",
   "metadata": {},
   "outputs": [
    {
     "name": "stdout",
     "output_type": "stream",
     "text": [
      "0.2\n"
     ]
    }
   ],
   "source": [
    "accuracy_80_20 = accuracy_score(Y_test, Y_prediction)\n",
    "print(accuracy_80_20)"
   ]
  },
  {
   "cell_type": "markdown",
   "id": "00314dc0",
   "metadata": {},
   "source": [
    "### Confusion Matrix for 80:20"
   ]
  },
  {
   "cell_type": "code",
   "execution_count": 26,
   "id": "1c8f396d",
   "metadata": {},
   "outputs": [
    {
     "name": "stdout",
     "output_type": "stream",
     "text": [
      "[[[3402   30]\n",
      "  [ 563    5]]\n",
      "\n",
      " [[ 148 3039]\n",
      "  [  44  769]]\n",
      "\n",
      " [[3390   46]\n",
      "  [ 559    5]]\n",
      "\n",
      " [[3784    0]\n",
      "  [ 216    0]]\n",
      "\n",
      " [[3269   48]\n",
      "  [ 669   14]]\n",
      "\n",
      " [[3605   29]\n",
      "  [ 361    5]]\n",
      "\n",
      " [[3646    8]\n",
      "  [ 345    1]]\n",
      "\n",
      " [[3776    0]\n",
      "  [ 223    1]]\n",
      "\n",
      " [[3780    0]\n",
      "  [ 220    0]]]\n"
     ]
    }
   ],
   "source": [
    "confusion_matrix_80_20 = multilabel_confusion_matrix(Y_test, Y_prediction, labels=np.unique(Y))\n",
    "print(confusion_matrix_80_20)"
   ]
  },
  {
   "cell_type": "markdown",
   "id": "85003412",
   "metadata": {},
   "source": [
    "## 70:30"
   ]
  },
  {
   "cell_type": "code",
   "execution_count": 27,
   "id": "498e6127",
   "metadata": {},
   "outputs": [],
   "source": [
    "X_train, X_test, Y_train, Y_test = train_test_split(X, Y, random_state=3654, test_size=0.3)"
   ]
  },
  {
   "cell_type": "code",
   "execution_count": 28,
   "id": "fad7fea1",
   "metadata": {},
   "outputs": [],
   "source": [
    "model = MLPClassifier(hidden_layer_sizes=(128, 64), activation=\"relu\", max_iter=1000)\n",
    "model.fit(X_train, Y_train)\n",
    "Y_prediction = model.predict(X_test)"
   ]
  },
  {
   "cell_type": "code",
   "execution_count": 29,
   "id": "0a66a8a3",
   "metadata": {},
   "outputs": [
    {
     "name": "stdout",
     "output_type": "stream",
     "text": [
      "0.15266666666666667\n"
     ]
    }
   ],
   "source": [
    "classwise_accuracy3 = model.score(X_test, Y_test)\n",
    "print(classwise_accuracy3)"
   ]
  },
  {
   "cell_type": "code",
   "execution_count": 30,
   "id": "31eed84c",
   "metadata": {},
   "outputs": [
    {
     "name": "stdout",
     "output_type": "stream",
     "text": [
      "0.15266666666666667\n"
     ]
    }
   ],
   "source": [
    "accuracy_70_30 = accuracy_score(Y_test, Y_prediction)\n",
    "print(accuracy_70_30)"
   ]
  },
  {
   "cell_type": "markdown",
   "id": "41040979",
   "metadata": {},
   "source": [
    "### Confusion Matrix for 70:30"
   ]
  },
  {
   "cell_type": "code",
   "execution_count": 31,
   "id": "277d4feb",
   "metadata": {},
   "outputs": [
    {
     "name": "stdout",
     "output_type": "stream",
     "text": [
      "[[[4790  368]\n",
      "  [ 772   70]]\n",
      "\n",
      " [[3389 1435]\n",
      "  [ 829  347]]\n",
      "\n",
      " [[4422  705]\n",
      "  [ 767  106]]\n",
      "\n",
      " [[5406  260]\n",
      "  [ 317   17]]\n",
      "\n",
      " [[3326 1660]\n",
      "  [ 686  328]]\n",
      "\n",
      " [[5137  302]\n",
      "  [ 537   24]]\n",
      "\n",
      " [[5368   90]\n",
      "  [ 534    8]]\n",
      "\n",
      " [[5602   62]\n",
      "  [ 333    3]]\n",
      "\n",
      " [[5476  202]\n",
      "  [ 309   13]]]\n"
     ]
    }
   ],
   "source": [
    "confusion_matrix_70_30 = multilabel_confusion_matrix(Y_test, Y_prediction, labels=np.unique(Y))\n",
    "print(confusion_matrix_70_30)"
   ]
  },
  {
   "cell_type": "markdown",
   "id": "0ecc3953",
   "metadata": {},
   "source": [
    "## 60:40"
   ]
  },
  {
   "cell_type": "code",
   "execution_count": 32,
   "id": "bdc53bc3",
   "metadata": {},
   "outputs": [],
   "source": [
    "X_train, X_test, Y_train, Y_test = train_test_split(X, Y, random_state=3654, test_size=0.4)"
   ]
  },
  {
   "cell_type": "code",
   "execution_count": 33,
   "id": "77222a1d",
   "metadata": {},
   "outputs": [],
   "source": [
    "model = MLPClassifier(hidden_layer_sizes=(128, 64), activation=\"relu\", max_iter=1000)\n",
    "model.fit(X_train, Y_train)\n",
    "Y_prediction = model.predict(X_test)"
   ]
  },
  {
   "cell_type": "code",
   "execution_count": 34,
   "id": "184d8f81",
   "metadata": {},
   "outputs": [
    {
     "name": "stdout",
     "output_type": "stream",
     "text": [
      "0.15675\n"
     ]
    }
   ],
   "source": [
    "classwise_accuracy4 = model.score(X_test, Y_test)\n",
    "print(classwise_accuracy4)"
   ]
  },
  {
   "cell_type": "code",
   "execution_count": 35,
   "id": "daec4eb5",
   "metadata": {},
   "outputs": [
    {
     "name": "stdout",
     "output_type": "stream",
     "text": [
      "0.15675\n"
     ]
    }
   ],
   "source": [
    "accuracy_60_40 = accuracy_score(Y_test, Y_prediction)\n",
    "print(accuracy_60_40)"
   ]
  },
  {
   "cell_type": "markdown",
   "id": "8bbdf376",
   "metadata": {},
   "source": [
    "### Confusion Matrix for 60:40"
   ]
  },
  {
   "cell_type": "code",
   "execution_count": 36,
   "id": "c4a20b12",
   "metadata": {},
   "outputs": [
    {
     "name": "stdout",
     "output_type": "stream",
     "text": [
      "[[[4396 2453]\n",
      "  [ 744  407]]\n",
      "\n",
      " [[4106 2322]\n",
      "  [1023  549]]\n",
      "\n",
      " [[5473 1355]\n",
      "  [ 953  219]]\n",
      "\n",
      " [[7542    0]\n",
      "  [ 458    0]]\n",
      "\n",
      " [[6294  371]\n",
      "  [1279   56]]\n",
      "\n",
      " [[7067  212]\n",
      "  [ 699   22]]\n",
      "\n",
      " [[7269   12]\n",
      "  [ 719    0]]\n",
      "\n",
      " [[7547   20]\n",
      "  [ 432    1]]\n",
      "\n",
      " [[7560    1]\n",
      "  [ 439    0]]]\n"
     ]
    }
   ],
   "source": [
    "confusion_matrix_60_40 = multilabel_confusion_matrix(Y_test, Y_prediction, labels=np.unique(Y))\n",
    "print(confusion_matrix_60_40)"
   ]
  },
  {
   "cell_type": "markdown",
   "id": "6daacdbf",
   "metadata": {},
   "source": [
    "# Visualising Test Size vs Class-Wise Accuracy"
   ]
  },
  {
   "cell_type": "code",
   "execution_count": 37,
   "id": "41a99f44",
   "metadata": {},
   "outputs": [
    {
     "name": "stderr",
     "output_type": "stream",
     "text": [
      "C:\\Users\\MOHD SUFYAN\\anaconda3\\lib\\site-packages\\seaborn\\_decorators.py:36: FutureWarning: Pass the following variables as keyword args: x, y. From version 0.12, the only valid positional argument will be `data`, and passing other arguments without an explicit keyword will result in an error or misinterpretation.\n",
      "  warnings.warn(\n"
     ]
    },
    {
     "data": {
      "image/png": "[encoded data removed]",
      "text/plain": [
       "<Figure size 432x288 with 1 Axes>"
      ]
     },
     "metadata": {
      "needs_background": "light"
     },
     "output_type": "display_data"
    }
   ],
   "source": [
    "def visualize_class_wise_accuracy():\n",
    "    Y = [classwise_accuracy1, classwise_accuracy2, classwise_accuracy3, classwise_accuracy4]\n",
    "    X = [0.1, 0.2, 0.3, 0.4]\n",
    "\n",
    "    graph = sns.stripplot(X, Y)\n",
    "    graph.set(xlabel ='Test Size', ylabel ='Class Wise Accuracy')\n",
    "    plt.title('Plotting Class-Wise Accuracies vs Test Size')\n",
    "    plt.show()\n",
    "\n",
    "visualize_class_wise_accuracy()"
   ]
  },
  {
   "cell_type": "markdown",
   "id": "a9ac6cbf",
   "metadata": {},
   "source": [
    "# Visualising Test Size vs Accuracy of Model For Each Test Size"
   ]
  },
  {
   "cell_type": "code",
   "execution_count": 38,
   "id": "6d32680a",
   "metadata": {},
   "outputs": [
    {
     "name": "stderr",
     "output_type": "stream",
     "text": [
      "C:\\Users\\MOHD SUFYAN\\anaconda3\\lib\\site-packages\\seaborn\\_decorators.py:36: FutureWarning: Pass the following variables as keyword args: x, y. From version 0.12, the only valid positional argument will be `data`, and passing other arguments without an explicit keyword will result in an error or misinterpretation.\n",
      "  warnings.warn(\n"
     ]
    },
    {
     "data": {
      "image/png": "[encoded data removed]",
      "text/plain": [
       "<Figure size 432x288 with 1 Axes>"
      ]
     },
     "metadata": {
      "needs_background": "light"
     },
     "output_type": "display_data"
    }
   ],
   "source": [
    "def visualize_accuracy():\n",
    "    Y = [accuracy_90_10, accuracy_80_20, accuracy_70_30, accuracy_60_40]\n",
    "    X = [0.1, 0.2, 0.3, 0.4]\n",
    "    \n",
    "    graph = sns.stripplot(X, Y)\n",
    "    graph.set(xlabel ='Test Size', ylabel ='Accuracy')\n",
    "    plt.title('Plotting Accuracies vs Test Size')\n",
    "    plt.show()\n",
    "\n",
    "visualize_accuracy()"
   ]
  },
  {
   "cell_type": "code",
   "execution_count": 39,
   "id": "bbe0c5b3",
   "metadata": {},
   "outputs": [],
   "source": [
    "# import io\n",
    "# from google.colab import files\n",
    "# uploaded = files.upload()\n",
    "# data = pd.read_csv(io.BytesIO(uploaded['roo_data.csv']))\n",
    "# data.head()"
   ]
  }
 ],
 "metadata": {
  "kernelspec": {
   "display_name": "Python 3.10.2 64-bit",
   "language": "python",
   "name": "python3"
  },
  "language_info": {
   "codemirror_mode": {
    "name": "ipython",
    "version": 3
   },
   "file_extension": ".py",
   "mimetype": "text/x-python",
   "name": "python",
   "nbconvert_exporter": "python",
   "pygments_lexer": "ipython3",
   "version": "3.10.2"
  },
  "vscode": {
   "interpreter": {
    "hash": "2dfc3b83488f359e993d629cab891b2b5112ae3e11ac9bd465c3180a88b327af"
   }
  }
 },
 "nbformat": 4,
 "nbformat_minor": 5
}
